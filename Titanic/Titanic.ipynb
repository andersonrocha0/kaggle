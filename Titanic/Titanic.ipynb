{
 "cells": [
  {
   "cell_type": "markdown",
   "metadata": {},
   "source": [
    "# Desafio Titanic Kaggle\n",
    "\n",
    "### Anderson Rocha\n",
    "#### http://scikit-learn.org/\n",
    "#### https://www.kaggle.com/c/titanic/data"
   ]
  },
  {
   "cell_type": "markdown",
   "metadata": {},
   "source": [
    "### Importanto dados"
   ]
  },
  {
   "cell_type": "code",
   "execution_count": 49,
   "metadata": {},
   "outputs": [],
   "source": [
    "import numpy as np\n",
    "import pandas as pd\n",
    "from sklearn import metrics\n",
    "from sklearn.model_selection import train_test_split\n",
    "from sklearn.decomposition import PCA\n",
    "from sklearn.preprocessing import StandardScaler\n",
    "from sklearn.pipeline import make_pipeline\n",
    "import matplotlib.pyplot as plt\n",
    "\n",
    "from __future__ import print_function\n",
    "\n",
    "%matplotlib inline\n",
    "\n",
    "attributes = ['PassengerId', 'Survived', 'Pclass', 'Name',\n",
    "              'Sex', 'Age', 'SibSp', 'Parch', 'Ticket',\n",
    "              'Fare', 'Cabin', 'Embarked']\n",
    "\n",
    "features = [a for a in attributes if a != 'Survived']\n",
    "\n",
    "\n",
    "# Treino\n",
    "train = pd.read_csv('train.csv', header=0, names=attributes, delimiter=',')\n",
    "\n",
    "# Test\n",
    "test = pd.read_csv('test.csv', header=0, names=features, delimiter=',')"
   ]
  },
  {
   "cell_type": "markdown",
   "metadata": {},
   "source": [
    "### Analisando dados"
   ]
  },
  {
   "cell_type": "code",
   "execution_count": 61,
   "metadata": {},
   "outputs": [
    {
     "name": "stdout",
     "output_type": "stream",
     "text": [
      "   PassengerId  Survived  Pclass  \\\n",
      "0            1         0       3   \n",
      "1            2         1       1   \n",
      "2            3         1       3   \n",
      "3            4         1       1   \n",
      "4            5         0       3   \n",
      "\n",
      "                                                Name     Sex   Age  SibSp  \\\n",
      "0                            Braund, Mr. Owen Harris    male  22.0      1   \n",
      "1  Cumings, Mrs. John Bradley (Florence Briggs Th...  female  38.0      1   \n",
      "2                             Heikkinen, Miss. Laina  female  26.0      0   \n",
      "3       Futrelle, Mrs. Jacques Heath (Lily May Peel)  female  35.0      1   \n",
      "4                           Allen, Mr. William Henry    male  35.0      0   \n",
      "\n",
      "   Parch            Ticket     Fare Cabin Embarked  \n",
      "0      0         A/5 21171   7.2500   NaN        S  \n",
      "1      0          PC 17599  71.2833   C85        C  \n",
      "2      0  STON/O2. 3101282   7.9250   NaN        S  \n",
      "3      0            113803  53.1000  C123        S  \n",
      "4      0            373450   8.0500   NaN        S  \n",
      "----------------------------------------------------------------------------\n",
      "       PassengerId    Survived      Pclass         Age       SibSp  \\\n",
      "count   891.000000  891.000000  891.000000  714.000000  891.000000   \n",
      "mean    446.000000    0.383838    2.308642   29.699118    0.523008   \n",
      "std     257.353842    0.486592    0.836071   14.526497    1.102743   \n",
      "min       1.000000    0.000000    1.000000    0.420000    0.000000   \n",
      "25%     223.500000    0.000000    2.000000   20.125000    0.000000   \n",
      "50%     446.000000    0.000000    3.000000   28.000000    0.000000   \n",
      "75%     668.500000    1.000000    3.000000   38.000000    1.000000   \n",
      "max     891.000000    1.000000    3.000000   80.000000    8.000000   \n",
      "\n",
      "            Parch        Fare  \n",
      "count  891.000000  891.000000  \n",
      "mean     0.381594   32.204208  \n",
      "std      0.806057   49.693429  \n",
      "min      0.000000    0.000000  \n",
      "25%      0.000000    7.910400  \n",
      "50%      0.000000   14.454200  \n",
      "75%      0.000000   31.000000  \n",
      "max      6.000000  512.329200  \n",
      "-----------------------------Verificando dados nulos------------------------\n",
      "Survived\n",
      "0    549\n",
      "1    342\n",
      "Name: PassengerId, dtype: int64\n",
      "----------------------------------------------------------------------------\n",
      "O atributo Age tem 177 nulos\n",
      "O atributo Cabin tem 687 nulos\n",
      "O atributo Embarked tem 2 nulos\n"
     ]
    }
   ],
   "source": [
    "print(train.head())\n",
    "print(\"----------------------------------------------------------------------------\")\n",
    "print(train.describe())\n",
    "print(\"-----------------------------Verificando dados nulos------------------------\")\n",
    "\n",
    "print(train.groupby('Survived')['PassengerId'].nunique())\n",
    "\n",
    "print(\"----------------------------------------------------------------------------\")\n",
    "\n",
    "for attr in attributes:\n",
    "    y = train[train[attr].isnull()]\n",
    "    nulos = len(y)\n",
    "    if nulos > 0:\n",
    "        print(f\"O atributo {attr} tem {nulos} nulos\")\n",
    "    "
   ]
  },
  {
   "cell_type": "markdown",
   "metadata": {},
   "source": [
    "* Podemos ver que temos um maior número de mortes, (classe 0 mortos, 1 vivos). De **891** registros, temos **549** mortos. Isso pode ser um problema para o nosso algoritmo, pois a classe majoritária pode ser favorecida no treino.\n",
    "\n",
    "* Temos mais um problema que é a cabine em que os passageiros estavam. Temos 687 registros com valores nulos **(687)**.\n",
    "* Outro problema que temos é que temos muitos registro com o atributo idade nulo **(177)**.\n",
    "* Além desses problemas temos **2** registros de embarcado com null, mais não é um número preocupante neste momento."
   ]
  },
  {
   "cell_type": "markdown",
   "metadata": {},
   "source": [
    "### Tratando dados de treino"
   ]
  },
  {
   "cell_type": "markdown",
   "metadata": {},
   "source": [
    "Vamos descobrir qual a melhor maneira de inferir as idades nulas. Podemos colocar a média para todos os registros nulos ou podemos inferir através de outros atributos.\n",
    "\n",
    "Observando os atributos, vemos que o nome das pessoas sempre tem as iniciais (Miss, Mr, etc), então podemos agrupar as médias por essas iniciais."
   ]
  },
  {
   "cell_type": "code",
   "execution_count": 90,
   "metadata": {},
   "outputs": [
    {
     "name": "stdout",
     "output_type": "stream",
     "text": [
      "                     Age\n",
      "Initial                 \n",
      " Capt          70.000000\n",
      " Col           58.000000\n",
      " Don           40.000000\n",
      " Dr            42.000000\n",
      " Jonkheer      38.000000\n",
      " Lady          48.000000\n",
      " Major         48.500000\n",
      " Master         4.574167\n",
      " Miss          21.773973\n",
      " Mlle          24.000000\n",
      " Mme           24.000000\n",
      " Mr            32.394207\n",
      " Mrs           35.898148\n",
      " Ms            28.000000\n",
      " Rev           43.166667\n",
      " Sir           49.000000\n",
      " the Countess  33.000000\n"
     ]
    }
   ],
   "source": [
    "names_and_ages = train[[\"Name\", \"Age\"]]\n",
    "list_tuples_with_initials_and_names = []\n",
    "for i in range(1, len(names_and_ages[\"Name\"])):\n",
    "    name = names_and_ages[\"Name\"][i]\n",
    "    age = names_and_ages[\"Age\"][i]\n",
    "    splitted_name = name.split(\",\")\n",
    "    splitted_name_inicial = splitted_name[1].split(\".\")\n",
    "    list_tuples_with_initials_and_names.append((splitted_name_inicial[0], age))\n",
    "    \n",
    "df_initials_and_names = pd.DataFrame(list_tuples_with_initials_and_names, columns=[\"Initial\", \"Age\"])\n",
    "\n",
    "print(df_initials_and_names.groupby(\"Initial\").agg(\"mean\"))"
   ]
  },
  {
   "cell_type": "markdown",
   "metadata": {},
   "source": [
    "### Selecionando os melhores atributos"
   ]
  },
  {
   "cell_type": "markdown",
   "metadata": {},
   "source": [
    "### Oversampling - adicionando dados fake a classe minoritária"
   ]
  },
  {
   "cell_type": "markdown",
   "metadata": {},
   "source": [
    "### Validação cruzada de algoritmos e hiper parâmetros"
   ]
  }
 ],
 "metadata": {
  "kernelspec": {
   "display_name": "Python 3",
   "language": "python",
   "name": "python3"
  },
  "language_info": {
   "codemirror_mode": {
    "name": "ipython",
    "version": 3
   },
   "file_extension": ".py",
   "mimetype": "text/x-python",
   "name": "python",
   "nbconvert_exporter": "python",
   "pygments_lexer": "ipython3",
   "version": "3.6.4"
  }
 },
 "nbformat": 4,
 "nbformat_minor": 2
}
